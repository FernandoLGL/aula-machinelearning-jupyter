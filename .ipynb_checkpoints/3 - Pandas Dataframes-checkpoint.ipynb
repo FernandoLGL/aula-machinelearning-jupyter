{
 "cells": [
  {
   "cell_type": "markdown",
   "metadata": {},
   "source": [
    "# Pandas Dataframes\n",
    "\n",
    "Agora que já vimos Series, podemos ver toda a capacidade do Pandas em ação com os Dataframes, o verdadeiro poder do Pandas.\n",
    "\n",
    "Dataframes são várias Series unidas para formar uma matriz de dados.\n",
    "\n",
    "**Cada LINHA de um Dataframe é uma Series. Assim como cada COLUNA também é uma Series!**"
   ]
  },
  {
   "cell_type": "code",
   "execution_count": 1,
   "metadata": {},
   "outputs": [],
   "source": [
    "import numpy as np\n",
    "import pandas as pd"
   ]
  },
  {
   "cell_type": "code",
   "execution_count": 2,
   "metadata": {},
   "outputs": [],
   "source": [
    "arr = np.random.randn(5,4)"
   ]
  },
  {
   "cell_type": "code",
   "execution_count": 3,
   "metadata": {},
   "outputs": [
    {
     "data": {
      "text/plain": [
       "array([[-0.06584585, -0.6801047 , -0.6555421 , -0.67948501],\n",
       "       [ 0.02687692, -0.01896736, -1.23048323, -1.60628339],\n",
       "       [-0.85365446, -0.21854572,  0.20828465, -0.59273846],\n",
       "       [ 0.55121649, -0.40946388, -0.42785011,  0.13168707],\n",
       "       [ 0.17459926,  0.65880105, -0.20844939, -0.10332223]])"
      ]
     },
     "execution_count": 3,
     "metadata": {},
     "output_type": "execute_result"
    }
   ],
   "source": [
    "arr"
   ]
  },
  {
   "cell_type": "code",
   "execution_count": 4,
   "metadata": {},
   "outputs": [
    {
     "data": {
      "text/html": [
       "<div>\n",
       "<style scoped>\n",
       "    .dataframe tbody tr th:only-of-type {\n",
       "        vertical-align: middle;\n",
       "    }\n",
       "\n",
       "    .dataframe tbody tr th {\n",
       "        vertical-align: top;\n",
       "    }\n",
       "\n",
       "    .dataframe thead th {\n",
       "        text-align: right;\n",
       "    }\n",
       "</style>\n",
       "<table border=\"1\" class=\"dataframe\">\n",
       "  <thead>\n",
       "    <tr style=\"text-align: right;\">\n",
       "      <th></th>\n",
       "      <th>Joao</th>\n",
       "      <th>Maria</th>\n",
       "      <th>Gabriel</th>\n",
       "      <th>Alexandre</th>\n",
       "    </tr>\n",
       "  </thead>\n",
       "  <tbody>\n",
       "    <tr>\n",
       "      <th>A</th>\n",
       "      <td>-0.065846</td>\n",
       "      <td>-0.680105</td>\n",
       "      <td>-0.655542</td>\n",
       "      <td>-0.679485</td>\n",
       "    </tr>\n",
       "    <tr>\n",
       "      <th>B</th>\n",
       "      <td>0.026877</td>\n",
       "      <td>-0.018967</td>\n",
       "      <td>-1.230483</td>\n",
       "      <td>-1.606283</td>\n",
       "    </tr>\n",
       "    <tr>\n",
       "      <th>C</th>\n",
       "      <td>-0.853654</td>\n",
       "      <td>-0.218546</td>\n",
       "      <td>0.208285</td>\n",
       "      <td>-0.592738</td>\n",
       "    </tr>\n",
       "    <tr>\n",
       "      <th>D</th>\n",
       "      <td>0.551216</td>\n",
       "      <td>-0.409464</td>\n",
       "      <td>-0.427850</td>\n",
       "      <td>0.131687</td>\n",
       "    </tr>\n",
       "    <tr>\n",
       "      <th>E</th>\n",
       "      <td>0.174599</td>\n",
       "      <td>0.658801</td>\n",
       "      <td>-0.208449</td>\n",
       "      <td>-0.103322</td>\n",
       "    </tr>\n",
       "  </tbody>\n",
       "</table>\n",
       "</div>"
      ],
      "text/plain": [
       "       Joao     Maria   Gabriel  Alexandre\n",
       "A -0.065846 -0.680105 -0.655542  -0.679485\n",
       "B  0.026877 -0.018967 -1.230483  -1.606283\n",
       "C -0.853654 -0.218546  0.208285  -0.592738\n",
       "D  0.551216 -0.409464 -0.427850   0.131687\n",
       "E  0.174599  0.658801 -0.208449  -0.103322"
      ]
     },
     "execution_count": 4,
     "metadata": {},
     "output_type": "execute_result"
    }
   ],
   "source": [
    "pd.DataFrame(data=arr,index=['A','B','C','D','E'], columns=['Joao','Maria','Gabriel','Alexandre'])"
   ]
  },
  {
   "cell_type": "code",
   "execution_count": 5,
   "metadata": {},
   "outputs": [],
   "source": [
    "#Muito comum chamarmos os dataframes de \"df\"\n",
    "df = pd.DataFrame(data=arr,index=['A','B','C','D','E'], columns=['Joao','Maria','Gabriel','Alexandre'])"
   ]
  },
  {
   "cell_type": "markdown",
   "metadata": {},
   "source": [
    "### Consultando coluna num Dataframe \n",
    "\n",
    "Note que uma Series é retornada."
   ]
  },
  {
   "cell_type": "code",
   "execution_count": 8,
   "metadata": {},
   "outputs": [
    {
     "data": {
      "text/plain": [
       "A   -0.679485\n",
       "B   -1.606283\n",
       "C   -0.592738\n",
       "D    0.131687\n",
       "E   -0.103322\n",
       "Name: Alexandre, dtype: float64"
      ]
     },
     "execution_count": 8,
     "metadata": {},
     "output_type": "execute_result"
    }
   ],
   "source": [
    "df['Alexandre']"
   ]
  },
  {
   "cell_type": "markdown",
   "metadata": {},
   "source": [
    "### Criando coluna num Dataframe"
   ]
  },
  {
   "cell_type": "code",
   "execution_count": 6,
   "metadata": {},
   "outputs": [],
   "source": [
    "df['Fernando'] = np.random.randn(5)"
   ]
  },
  {
   "cell_type": "code",
   "execution_count": 7,
   "metadata": {},
   "outputs": [
    {
     "data": {
      "text/html": [
       "<div>\n",
       "<style scoped>\n",
       "    .dataframe tbody tr th:only-of-type {\n",
       "        vertical-align: middle;\n",
       "    }\n",
       "\n",
       "    .dataframe tbody tr th {\n",
       "        vertical-align: top;\n",
       "    }\n",
       "\n",
       "    .dataframe thead th {\n",
       "        text-align: right;\n",
       "    }\n",
       "</style>\n",
       "<table border=\"1\" class=\"dataframe\">\n",
       "  <thead>\n",
       "    <tr style=\"text-align: right;\">\n",
       "      <th></th>\n",
       "      <th>Joao</th>\n",
       "      <th>Maria</th>\n",
       "      <th>Gabriel</th>\n",
       "      <th>Alexandre</th>\n",
       "      <th>Fernando</th>\n",
       "    </tr>\n",
       "  </thead>\n",
       "  <tbody>\n",
       "    <tr>\n",
       "      <th>A</th>\n",
       "      <td>-0.065846</td>\n",
       "      <td>-0.680105</td>\n",
       "      <td>-0.655542</td>\n",
       "      <td>-0.679485</td>\n",
       "      <td>-1.106337</td>\n",
       "    </tr>\n",
       "    <tr>\n",
       "      <th>B</th>\n",
       "      <td>0.026877</td>\n",
       "      <td>-0.018967</td>\n",
       "      <td>-1.230483</td>\n",
       "      <td>-1.606283</td>\n",
       "      <td>-0.023805</td>\n",
       "    </tr>\n",
       "    <tr>\n",
       "      <th>C</th>\n",
       "      <td>-0.853654</td>\n",
       "      <td>-0.218546</td>\n",
       "      <td>0.208285</td>\n",
       "      <td>-0.592738</td>\n",
       "      <td>-1.490792</td>\n",
       "    </tr>\n",
       "    <tr>\n",
       "      <th>D</th>\n",
       "      <td>0.551216</td>\n",
       "      <td>-0.409464</td>\n",
       "      <td>-0.427850</td>\n",
       "      <td>0.131687</td>\n",
       "      <td>-0.501005</td>\n",
       "    </tr>\n",
       "    <tr>\n",
       "      <th>E</th>\n",
       "      <td>0.174599</td>\n",
       "      <td>0.658801</td>\n",
       "      <td>-0.208449</td>\n",
       "      <td>-0.103322</td>\n",
       "      <td>1.540380</td>\n",
       "    </tr>\n",
       "  </tbody>\n",
       "</table>\n",
       "</div>"
      ],
      "text/plain": [
       "       Joao     Maria   Gabriel  Alexandre  Fernando\n",
       "A -0.065846 -0.680105 -0.655542  -0.679485 -1.106337\n",
       "B  0.026877 -0.018967 -1.230483  -1.606283 -0.023805\n",
       "C -0.853654 -0.218546  0.208285  -0.592738 -1.490792\n",
       "D  0.551216 -0.409464 -0.427850   0.131687 -0.501005\n",
       "E  0.174599  0.658801 -0.208449  -0.103322  1.540380"
      ]
     },
     "execution_count": 7,
     "metadata": {},
     "output_type": "execute_result"
    }
   ],
   "source": [
    "df"
   ]
  },
  {
   "cell_type": "markdown",
   "metadata": {},
   "source": [
    "### Consultando linha num Dataframe\n",
    "\n",
    "Para muitos essa notação é confusa no início, mas logo se pega o jeito.\n",
    "\n",
    "Utilizamos **loc** para consultar linha de um Dataframe.\n",
    "\n",
    "Note que também retorna uma Series"
   ]
  },
  {
   "cell_type": "code",
   "execution_count": 12,
   "metadata": {},
   "outputs": [
    {
     "data": {
      "text/plain": [
       "Joao        -0.065846\n",
       "Maria       -0.680105\n",
       "Gabriel     -0.655542\n",
       "Alexandre   -0.679485\n",
       "Fernando    -1.106337\n",
       "Name: A, dtype: float64"
      ]
     },
     "execution_count": 12,
     "metadata": {},
     "output_type": "execute_result"
    }
   ],
   "source": [
    "df.loc['A']"
   ]
  },
  {
   "cell_type": "markdown",
   "metadata": {},
   "source": [
    "Se por algum acaso não soubermos o nome da linha mas soubermos a posição que está, podemos utilizar **iloc** passando entre colchetes a posição."
   ]
  },
  {
   "cell_type": "code",
   "execution_count": 13,
   "metadata": {},
   "outputs": [
    {
     "data": {
      "text/plain": [
       "Joao        -0.065846\n",
       "Maria       -0.680105\n",
       "Gabriel     -0.655542\n",
       "Alexandre   -0.679485\n",
       "Fernando    -1.106337\n",
       "Name: A, dtype: float64"
      ]
     },
     "execution_count": 13,
     "metadata": {},
     "output_type": "execute_result"
    }
   ],
   "source": [
    "df.iloc[0] #equivalente a df.loc['A']"
   ]
  },
  {
   "cell_type": "code",
   "execution_count": 14,
   "metadata": {},
   "outputs": [
    {
     "data": {
      "text/plain": [
       "Joao        -0.853654\n",
       "Maria       -0.218546\n",
       "Gabriel      0.208285\n",
       "Alexandre   -0.592738\n",
       "Fernando    -1.490792\n",
       "Name: C, dtype: float64"
      ]
     },
     "execution_count": 14,
     "metadata": {},
     "output_type": "execute_result"
    }
   ],
   "source": [
    "df.iloc[2] #equivalente a df.loc['C']"
   ]
  },
  {
   "cell_type": "markdown",
   "metadata": {},
   "source": [
    "### Deletando colunas e linhas"
   ]
  },
  {
   "cell_type": "code",
   "execution_count": 15,
   "metadata": {
    "scrolled": true
   },
   "outputs": [
    {
     "data": {
      "text/html": [
       "<div>\n",
       "<style scoped>\n",
       "    .dataframe tbody tr th:only-of-type {\n",
       "        vertical-align: middle;\n",
       "    }\n",
       "\n",
       "    .dataframe tbody tr th {\n",
       "        vertical-align: top;\n",
       "    }\n",
       "\n",
       "    .dataframe thead th {\n",
       "        text-align: right;\n",
       "    }\n",
       "</style>\n",
       "<table border=\"1\" class=\"dataframe\">\n",
       "  <thead>\n",
       "    <tr style=\"text-align: right;\">\n",
       "      <th></th>\n",
       "      <th>Joao</th>\n",
       "      <th>Maria</th>\n",
       "      <th>Gabriel</th>\n",
       "      <th>Alexandre</th>\n",
       "      <th>Fernando</th>\n",
       "    </tr>\n",
       "  </thead>\n",
       "  <tbody>\n",
       "    <tr>\n",
       "      <th>A</th>\n",
       "      <td>-0.065846</td>\n",
       "      <td>-0.680105</td>\n",
       "      <td>-0.655542</td>\n",
       "      <td>-0.679485</td>\n",
       "      <td>-1.106337</td>\n",
       "    </tr>\n",
       "    <tr>\n",
       "      <th>B</th>\n",
       "      <td>0.026877</td>\n",
       "      <td>-0.018967</td>\n",
       "      <td>-1.230483</td>\n",
       "      <td>-1.606283</td>\n",
       "      <td>-0.023805</td>\n",
       "    </tr>\n",
       "    <tr>\n",
       "      <th>C</th>\n",
       "      <td>-0.853654</td>\n",
       "      <td>-0.218546</td>\n",
       "      <td>0.208285</td>\n",
       "      <td>-0.592738</td>\n",
       "      <td>-1.490792</td>\n",
       "    </tr>\n",
       "    <tr>\n",
       "      <th>D</th>\n",
       "      <td>0.551216</td>\n",
       "      <td>-0.409464</td>\n",
       "      <td>-0.427850</td>\n",
       "      <td>0.131687</td>\n",
       "      <td>-0.501005</td>\n",
       "    </tr>\n",
       "    <tr>\n",
       "      <th>E</th>\n",
       "      <td>0.174599</td>\n",
       "      <td>0.658801</td>\n",
       "      <td>-0.208449</td>\n",
       "      <td>-0.103322</td>\n",
       "      <td>1.540380</td>\n",
       "    </tr>\n",
       "  </tbody>\n",
       "</table>\n",
       "</div>"
      ],
      "text/plain": [
       "       Joao     Maria   Gabriel  Alexandre  Fernando\n",
       "A -0.065846 -0.680105 -0.655542  -0.679485 -1.106337\n",
       "B  0.026877 -0.018967 -1.230483  -1.606283 -0.023805\n",
       "C -0.853654 -0.218546  0.208285  -0.592738 -1.490792\n",
       "D  0.551216 -0.409464 -0.427850   0.131687 -0.501005\n",
       "E  0.174599  0.658801 -0.208449  -0.103322  1.540380"
      ]
     },
     "execution_count": 15,
     "metadata": {},
     "output_type": "execute_result"
    }
   ],
   "source": [
    "df"
   ]
  },
  {
   "cell_type": "code",
   "execution_count": 16,
   "metadata": {},
   "outputs": [
    {
     "data": {
      "text/html": [
       "<div>\n",
       "<style scoped>\n",
       "    .dataframe tbody tr th:only-of-type {\n",
       "        vertical-align: middle;\n",
       "    }\n",
       "\n",
       "    .dataframe tbody tr th {\n",
       "        vertical-align: top;\n",
       "    }\n",
       "\n",
       "    .dataframe thead th {\n",
       "        text-align: right;\n",
       "    }\n",
       "</style>\n",
       "<table border=\"1\" class=\"dataframe\">\n",
       "  <thead>\n",
       "    <tr style=\"text-align: right;\">\n",
       "      <th></th>\n",
       "      <th>Joao</th>\n",
       "      <th>Maria</th>\n",
       "      <th>Gabriel</th>\n",
       "      <th>Alexandre</th>\n",
       "    </tr>\n",
       "  </thead>\n",
       "  <tbody>\n",
       "    <tr>\n",
       "      <th>A</th>\n",
       "      <td>-0.065846</td>\n",
       "      <td>-0.680105</td>\n",
       "      <td>-0.655542</td>\n",
       "      <td>-0.679485</td>\n",
       "    </tr>\n",
       "    <tr>\n",
       "      <th>B</th>\n",
       "      <td>0.026877</td>\n",
       "      <td>-0.018967</td>\n",
       "      <td>-1.230483</td>\n",
       "      <td>-1.606283</td>\n",
       "    </tr>\n",
       "    <tr>\n",
       "      <th>C</th>\n",
       "      <td>-0.853654</td>\n",
       "      <td>-0.218546</td>\n",
       "      <td>0.208285</td>\n",
       "      <td>-0.592738</td>\n",
       "    </tr>\n",
       "    <tr>\n",
       "      <th>D</th>\n",
       "      <td>0.551216</td>\n",
       "      <td>-0.409464</td>\n",
       "      <td>-0.427850</td>\n",
       "      <td>0.131687</td>\n",
       "    </tr>\n",
       "    <tr>\n",
       "      <th>E</th>\n",
       "      <td>0.174599</td>\n",
       "      <td>0.658801</td>\n",
       "      <td>-0.208449</td>\n",
       "      <td>-0.103322</td>\n",
       "    </tr>\n",
       "  </tbody>\n",
       "</table>\n",
       "</div>"
      ],
      "text/plain": [
       "       Joao     Maria   Gabriel  Alexandre\n",
       "A -0.065846 -0.680105 -0.655542  -0.679485\n",
       "B  0.026877 -0.018967 -1.230483  -1.606283\n",
       "C -0.853654 -0.218546  0.208285  -0.592738\n",
       "D  0.551216 -0.409464 -0.427850   0.131687\n",
       "E  0.174599  0.658801 -0.208449  -0.103322"
      ]
     },
     "execution_count": 16,
     "metadata": {},
     "output_type": "execute_result"
    }
   ],
   "source": [
    "df.drop('Fernando', axis=1)"
   ]
  },
  {
   "cell_type": "markdown",
   "metadata": {},
   "source": [
    "Note que nos é retornado outro dataframe. Note também que foi passado um argumento \"axis=1\", isso quer dizer que estamos querendo remover uma coluna. \n",
    "\n",
    "Pense no atributo \"shape\" de NumPy Arrays, lembre-se que o segundo elemento da tupla retornada por \"shape\" é responsável pela quantidade de **colunas**.\n",
    "\n",
    "Ou apenas lembre-se que uma matriz bidimensional é representada por N x M linhas e colunas. Considere N como o eixo(axis) 0 e M como o eixo(axis) 1.\n",
    "\n",
    "Se não especificássemos corretamente o eixo(axis), acabaríamos por excluir uma linha chamada \"Fernando\" (que no caso não existe, e portanto um erro apropriado seria retornado)"
   ]
  },
  {
   "cell_type": "code",
   "execution_count": 17,
   "metadata": {},
   "outputs": [
    {
     "data": {
      "text/html": [
       "<div>\n",
       "<style scoped>\n",
       "    .dataframe tbody tr th:only-of-type {\n",
       "        vertical-align: middle;\n",
       "    }\n",
       "\n",
       "    .dataframe tbody tr th {\n",
       "        vertical-align: top;\n",
       "    }\n",
       "\n",
       "    .dataframe thead th {\n",
       "        text-align: right;\n",
       "    }\n",
       "</style>\n",
       "<table border=\"1\" class=\"dataframe\">\n",
       "  <thead>\n",
       "    <tr style=\"text-align: right;\">\n",
       "      <th></th>\n",
       "      <th>Joao</th>\n",
       "      <th>Maria</th>\n",
       "      <th>Gabriel</th>\n",
       "      <th>Alexandre</th>\n",
       "      <th>Fernando</th>\n",
       "    </tr>\n",
       "  </thead>\n",
       "  <tbody>\n",
       "    <tr>\n",
       "      <th>B</th>\n",
       "      <td>0.026877</td>\n",
       "      <td>-0.018967</td>\n",
       "      <td>-1.230483</td>\n",
       "      <td>-1.606283</td>\n",
       "      <td>-0.023805</td>\n",
       "    </tr>\n",
       "    <tr>\n",
       "      <th>C</th>\n",
       "      <td>-0.853654</td>\n",
       "      <td>-0.218546</td>\n",
       "      <td>0.208285</td>\n",
       "      <td>-0.592738</td>\n",
       "      <td>-1.490792</td>\n",
       "    </tr>\n",
       "    <tr>\n",
       "      <th>D</th>\n",
       "      <td>0.551216</td>\n",
       "      <td>-0.409464</td>\n",
       "      <td>-0.427850</td>\n",
       "      <td>0.131687</td>\n",
       "      <td>-0.501005</td>\n",
       "    </tr>\n",
       "    <tr>\n",
       "      <th>E</th>\n",
       "      <td>0.174599</td>\n",
       "      <td>0.658801</td>\n",
       "      <td>-0.208449</td>\n",
       "      <td>-0.103322</td>\n",
       "      <td>1.540380</td>\n",
       "    </tr>\n",
       "  </tbody>\n",
       "</table>\n",
       "</div>"
      ],
      "text/plain": [
       "       Joao     Maria   Gabriel  Alexandre  Fernando\n",
       "B  0.026877 -0.018967 -1.230483  -1.606283 -0.023805\n",
       "C -0.853654 -0.218546  0.208285  -0.592738 -1.490792\n",
       "D  0.551216 -0.409464 -0.427850   0.131687 -0.501005\n",
       "E  0.174599  0.658801 -0.208449  -0.103322  1.540380"
      ]
     },
     "execution_count": 17,
     "metadata": {},
     "output_type": "execute_result"
    }
   ],
   "source": [
    "df.drop('A', axis=0)\n",
    "#O padrão já é axis=0, mas apenas quis ilustrar."
   ]
  },
  {
   "cell_type": "markdown",
   "metadata": {},
   "source": [
    "Como eu disse anteriormente, o \"drop\" está retornando um outro dataframe. Relacionado com isso está a ideia que muitas vezes é confusa de que as mudanças não estão feitas \"inplace\", ou seja, na verdade o nosso dataframe \"df\" continua intacto, e você pode ter percebido isso ao ver que a coluna \"Fernando\" não foi deletada mesmo após termos orientado anteriormente.\n",
    "\n",
    "A verdade por trás disso é que, por segurança, \"drop\" por padrão retorna uma **cópia** do dataframe original com as alterações sugeridas. **E isso acontece com vários métodos de dataframes!**"
   ]
  },
  {
   "cell_type": "code",
   "execution_count": 18,
   "metadata": {},
   "outputs": [
    {
     "data": {
      "text/html": [
       "<div>\n",
       "<style scoped>\n",
       "    .dataframe tbody tr th:only-of-type {\n",
       "        vertical-align: middle;\n",
       "    }\n",
       "\n",
       "    .dataframe tbody tr th {\n",
       "        vertical-align: top;\n",
       "    }\n",
       "\n",
       "    .dataframe thead th {\n",
       "        text-align: right;\n",
       "    }\n",
       "</style>\n",
       "<table border=\"1\" class=\"dataframe\">\n",
       "  <thead>\n",
       "    <tr style=\"text-align: right;\">\n",
       "      <th></th>\n",
       "      <th>Joao</th>\n",
       "      <th>Maria</th>\n",
       "      <th>Gabriel</th>\n",
       "      <th>Alexandre</th>\n",
       "      <th>Fernando</th>\n",
       "    </tr>\n",
       "  </thead>\n",
       "  <tbody>\n",
       "    <tr>\n",
       "      <th>A</th>\n",
       "      <td>-0.065846</td>\n",
       "      <td>-0.680105</td>\n",
       "      <td>-0.655542</td>\n",
       "      <td>-0.679485</td>\n",
       "      <td>-1.106337</td>\n",
       "    </tr>\n",
       "    <tr>\n",
       "      <th>B</th>\n",
       "      <td>0.026877</td>\n",
       "      <td>-0.018967</td>\n",
       "      <td>-1.230483</td>\n",
       "      <td>-1.606283</td>\n",
       "      <td>-0.023805</td>\n",
       "    </tr>\n",
       "    <tr>\n",
       "      <th>C</th>\n",
       "      <td>-0.853654</td>\n",
       "      <td>-0.218546</td>\n",
       "      <td>0.208285</td>\n",
       "      <td>-0.592738</td>\n",
       "      <td>-1.490792</td>\n",
       "    </tr>\n",
       "    <tr>\n",
       "      <th>D</th>\n",
       "      <td>0.551216</td>\n",
       "      <td>-0.409464</td>\n",
       "      <td>-0.427850</td>\n",
       "      <td>0.131687</td>\n",
       "      <td>-0.501005</td>\n",
       "    </tr>\n",
       "    <tr>\n",
       "      <th>E</th>\n",
       "      <td>0.174599</td>\n",
       "      <td>0.658801</td>\n",
       "      <td>-0.208449</td>\n",
       "      <td>-0.103322</td>\n",
       "      <td>1.540380</td>\n",
       "    </tr>\n",
       "  </tbody>\n",
       "</table>\n",
       "</div>"
      ],
      "text/plain": [
       "       Joao     Maria   Gabriel  Alexandre  Fernando\n",
       "A -0.065846 -0.680105 -0.655542  -0.679485 -1.106337\n",
       "B  0.026877 -0.018967 -1.230483  -1.606283 -0.023805\n",
       "C -0.853654 -0.218546  0.208285  -0.592738 -1.490792\n",
       "D  0.551216 -0.409464 -0.427850   0.131687 -0.501005\n",
       "E  0.174599  0.658801 -0.208449  -0.103322  1.540380"
      ]
     },
     "execution_count": 18,
     "metadata": {},
     "output_type": "execute_result"
    }
   ],
   "source": [
    "df"
   ]
  },
  {
   "cell_type": "markdown",
   "metadata": {},
   "source": [
    "Para que as mudanças sejam feitas **inplace**, devemos definir **inplace=True**"
   ]
  },
  {
   "cell_type": "code",
   "execution_count": 19,
   "metadata": {},
   "outputs": [],
   "source": [
    "df.drop('Alexandre', axis=1, inplace=True)"
   ]
  },
  {
   "cell_type": "markdown",
   "metadata": {},
   "source": [
    "Note como agora não nos foi retornado um dataframe"
   ]
  },
  {
   "cell_type": "code",
   "execution_count": 20,
   "metadata": {},
   "outputs": [
    {
     "data": {
      "text/html": [
       "<div>\n",
       "<style scoped>\n",
       "    .dataframe tbody tr th:only-of-type {\n",
       "        vertical-align: middle;\n",
       "    }\n",
       "\n",
       "    .dataframe tbody tr th {\n",
       "        vertical-align: top;\n",
       "    }\n",
       "\n",
       "    .dataframe thead th {\n",
       "        text-align: right;\n",
       "    }\n",
       "</style>\n",
       "<table border=\"1\" class=\"dataframe\">\n",
       "  <thead>\n",
       "    <tr style=\"text-align: right;\">\n",
       "      <th></th>\n",
       "      <th>Joao</th>\n",
       "      <th>Maria</th>\n",
       "      <th>Gabriel</th>\n",
       "      <th>Fernando</th>\n",
       "    </tr>\n",
       "  </thead>\n",
       "  <tbody>\n",
       "    <tr>\n",
       "      <th>A</th>\n",
       "      <td>-0.065846</td>\n",
       "      <td>-0.680105</td>\n",
       "      <td>-0.655542</td>\n",
       "      <td>-1.106337</td>\n",
       "    </tr>\n",
       "    <tr>\n",
       "      <th>B</th>\n",
       "      <td>0.026877</td>\n",
       "      <td>-0.018967</td>\n",
       "      <td>-1.230483</td>\n",
       "      <td>-0.023805</td>\n",
       "    </tr>\n",
       "    <tr>\n",
       "      <th>C</th>\n",
       "      <td>-0.853654</td>\n",
       "      <td>-0.218546</td>\n",
       "      <td>0.208285</td>\n",
       "      <td>-1.490792</td>\n",
       "    </tr>\n",
       "    <tr>\n",
       "      <th>D</th>\n",
       "      <td>0.551216</td>\n",
       "      <td>-0.409464</td>\n",
       "      <td>-0.427850</td>\n",
       "      <td>-0.501005</td>\n",
       "    </tr>\n",
       "    <tr>\n",
       "      <th>E</th>\n",
       "      <td>0.174599</td>\n",
       "      <td>0.658801</td>\n",
       "      <td>-0.208449</td>\n",
       "      <td>1.540380</td>\n",
       "    </tr>\n",
       "  </tbody>\n",
       "</table>\n",
       "</div>"
      ],
      "text/plain": [
       "       Joao     Maria   Gabriel  Fernando\n",
       "A -0.065846 -0.680105 -0.655542 -1.106337\n",
       "B  0.026877 -0.018967 -1.230483 -0.023805\n",
       "C -0.853654 -0.218546  0.208285 -1.490792\n",
       "D  0.551216 -0.409464 -0.427850 -0.501005\n",
       "E  0.174599  0.658801 -0.208449  1.540380"
      ]
     },
     "execution_count": 20,
     "metadata": {},
     "output_type": "execute_result"
    }
   ],
   "source": [
    "df"
   ]
  },
  {
   "cell_type": "markdown",
   "metadata": {},
   "source": [
    "E de fato a coluna \"Alexandre\" foi removida do dataframe em si.\n",
    "\n",
    "\n",
    "Para finalizar, vale dizer que para remover múltiplas linhas ou colunas basta passar uma lista das linhas ou colunas que deseja remover."
   ]
  },
  {
   "cell_type": "code",
   "execution_count": 21,
   "metadata": {},
   "outputs": [
    {
     "data": {
      "text/html": [
       "<div>\n",
       "<style scoped>\n",
       "    .dataframe tbody tr th:only-of-type {\n",
       "        vertical-align: middle;\n",
       "    }\n",
       "\n",
       "    .dataframe tbody tr th {\n",
       "        vertical-align: top;\n",
       "    }\n",
       "\n",
       "    .dataframe thead th {\n",
       "        text-align: right;\n",
       "    }\n",
       "</style>\n",
       "<table border=\"1\" class=\"dataframe\">\n",
       "  <thead>\n",
       "    <tr style=\"text-align: right;\">\n",
       "      <th></th>\n",
       "      <th>Gabriel</th>\n",
       "      <th>Fernando</th>\n",
       "    </tr>\n",
       "  </thead>\n",
       "  <tbody>\n",
       "    <tr>\n",
       "      <th>A</th>\n",
       "      <td>-0.655542</td>\n",
       "      <td>-1.106337</td>\n",
       "    </tr>\n",
       "    <tr>\n",
       "      <th>B</th>\n",
       "      <td>-1.230483</td>\n",
       "      <td>-0.023805</td>\n",
       "    </tr>\n",
       "    <tr>\n",
       "      <th>C</th>\n",
       "      <td>0.208285</td>\n",
       "      <td>-1.490792</td>\n",
       "    </tr>\n",
       "    <tr>\n",
       "      <th>D</th>\n",
       "      <td>-0.427850</td>\n",
       "      <td>-0.501005</td>\n",
       "    </tr>\n",
       "    <tr>\n",
       "      <th>E</th>\n",
       "      <td>-0.208449</td>\n",
       "      <td>1.540380</td>\n",
       "    </tr>\n",
       "  </tbody>\n",
       "</table>\n",
       "</div>"
      ],
      "text/plain": [
       "    Gabriel  Fernando\n",
       "A -0.655542 -1.106337\n",
       "B -1.230483 -0.023805\n",
       "C  0.208285 -1.490792\n",
       "D -0.427850 -0.501005\n",
       "E -0.208449  1.540380"
      ]
     },
     "execution_count": 21,
     "metadata": {},
     "output_type": "execute_result"
    }
   ],
   "source": [
    "df.drop(['Joao','Maria'],axis=1)"
   ]
  },
  {
   "cell_type": "markdown",
   "metadata": {},
   "source": [
    "# Vale a pena buscar aprender Dataframes mais a fundo (indexing/selecting, conditional selection, reset_index, set_index, Groupby, Missing Data...), afinal Dataframes demonstram o verdadeiro poder de Pandas e são o coração da análise de dados."
   ]
  }
 ],
 "metadata": {
  "kernelspec": {
   "display_name": "Python 3",
   "language": "python",
   "name": "python3"
  },
  "language_info": {
   "codemirror_mode": {
    "name": "ipython",
    "version": 3
   },
   "file_extension": ".py",
   "mimetype": "text/x-python",
   "name": "python",
   "nbconvert_exporter": "python",
   "pygments_lexer": "ipython3",
   "version": "3.6.5"
  }
 },
 "nbformat": 4,
 "nbformat_minor": 2
}
