{
 "cells": [
  {
   "cell_type": "markdown",
   "metadata": {},
   "source": [
    "# NumPy \n",
    "\n",
    "http://www.numpy.org/"
   ]
  },
  {
   "cell_type": "markdown",
   "metadata": {},
   "source": [
    "* Vamos começar convertendo uma lista de Python em um Numpy Array."
   ]
  },
  {
   "cell_type": "code",
   "execution_count": 13,
   "metadata": {},
   "outputs": [],
   "source": [
    "lista = [1,2,3,4,5]"
   ]
  },
  {
   "cell_type": "code",
   "execution_count": 14,
   "metadata": {
    "scrolled": true
   },
   "outputs": [
    {
     "data": {
      "text/plain": [
       "[1, 2, 3, 4, 5]"
      ]
     },
     "execution_count": 14,
     "metadata": {},
     "output_type": "execute_result"
    }
   ],
   "source": [
    "lista"
   ]
  },
  {
   "cell_type": "code",
   "execution_count": 15,
   "metadata": {},
   "outputs": [],
   "source": [
    "import numpy as np\n",
    "#Por convenção, importamos numpy como np."
   ]
  },
  {
   "cell_type": "code",
   "execution_count": 16,
   "metadata": {},
   "outputs": [
    {
     "data": {
      "text/plain": [
       "array([1, 2, 3, 4, 5])"
      ]
     },
     "execution_count": 16,
     "metadata": {},
     "output_type": "execute_result"
    }
   ],
   "source": [
    "np.array(lista)"
   ]
  },
  {
   "cell_type": "code",
   "execution_count": 18,
   "metadata": {},
   "outputs": [],
   "source": [
    "arr = np.array(lista)"
   ]
  },
  {
   "cell_type": "markdown",
   "metadata": {},
   "source": [
    "Agora possuímos um NumPy Array, que é mais sofisticado que uma lista comum."
   ]
  },
  {
   "cell_type": "code",
   "execution_count": 21,
   "metadata": {},
   "outputs": [
    {
     "data": {
      "text/plain": [
       "array([1, 2, 3, 4, 5])"
      ]
     },
     "execution_count": 21,
     "metadata": {},
     "output_type": "execute_result"
    }
   ],
   "source": [
    "arr"
   ]
  },
  {
   "cell_type": "markdown",
   "metadata": {},
   "source": [
    "Vamos criar um NumPy Array que contém os valores de 0 a 49."
   ]
  },
  {
   "cell_type": "code",
   "execution_count": 23,
   "metadata": {},
   "outputs": [
    {
     "data": {
      "text/plain": [
       "array([ 0,  1,  2,  3,  4,  5,  6,  7,  8,  9, 10, 11, 12, 13, 14, 15, 16,\n",
       "       17, 18, 19, 20, 21, 22, 23, 24, 25, 26, 27, 28, 29, 30, 31, 32, 33,\n",
       "       34, 35, 36, 37, 38, 39, 40, 41, 42, 43, 44, 45, 46, 47, 48, 49])"
      ]
     },
     "execution_count": 23,
     "metadata": {},
     "output_type": "execute_result"
    }
   ],
   "source": [
    "np.arange(0,50)\n",
    "#np.arange(50) #Podemos fazer simplesmente np.arange(50), o valor default de começo é 0."
   ]
  },
  {
   "cell_type": "code",
   "execution_count": 24,
   "metadata": {},
   "outputs": [],
   "source": [
    "arr = np.arange(50)"
   ]
  },
  {
   "cell_type": "code",
   "execution_count": 26,
   "metadata": {},
   "outputs": [
    {
     "data": {
      "text/plain": [
       "(50,)"
      ]
     },
     "execution_count": 26,
     "metadata": {},
     "output_type": "execute_result"
    }
   ],
   "source": [
    "arr.shape\n",
    "#Verificar o modelo do nosso NumPy Array"
   ]
  },
  {
   "cell_type": "markdown",
   "metadata": {},
   "source": [
    "Possuímos um vetor com 50 valores, 0 a 49.\n",
    "\n",
    "Podemos utilizar o método \"reshape\" para remodelar o nosso array em uma matriz de _**n**_ dimensões"
   ]
  },
  {
   "cell_type": "code",
   "execution_count": 27,
   "metadata": {},
   "outputs": [
    {
     "data": {
      "text/plain": [
       "array([[ 0,  1,  2,  3,  4,  5,  6,  7,  8,  9],\n",
       "       [10, 11, 12, 13, 14, 15, 16, 17, 18, 19],\n",
       "       [20, 21, 22, 23, 24, 25, 26, 27, 28, 29],\n",
       "       [30, 31, 32, 33, 34, 35, 36, 37, 38, 39],\n",
       "       [40, 41, 42, 43, 44, 45, 46, 47, 48, 49]])"
      ]
     },
     "execution_count": 27,
     "metadata": {},
     "output_type": "execute_result"
    }
   ],
   "source": [
    "arr.reshape(5,10)\n",
    "#Podemos fazer isso pois 5*10 = 50, que é o número de valores que possuímos."
   ]
  },
  {
   "cell_type": "markdown",
   "metadata": {},
   "source": [
    "Com isso geramos uma matriz bidimensional (note a quantidade de colchetes no início)\n",
    "\n",
    "Vamos gerar agora uma tridimensional:"
   ]
  },
  {
   "cell_type": "code",
   "execution_count": 28,
   "metadata": {},
   "outputs": [
    {
     "data": {
      "text/plain": [
       "array([[[ 0,  1,  2,  3,  4],\n",
       "        [ 5,  6,  7,  8,  9]],\n",
       "\n",
       "       [[10, 11, 12, 13, 14],\n",
       "        [15, 16, 17, 18, 19]],\n",
       "\n",
       "       [[20, 21, 22, 23, 24],\n",
       "        [25, 26, 27, 28, 29]],\n",
       "\n",
       "       [[30, 31, 32, 33, 34],\n",
       "        [35, 36, 37, 38, 39]],\n",
       "\n",
       "       [[40, 41, 42, 43, 44],\n",
       "        [45, 46, 47, 48, 49]]])"
      ]
     },
     "execution_count": 28,
     "metadata": {},
     "output_type": "execute_result"
    }
   ],
   "source": [
    "arr.reshape(5,2,5)"
   ]
  },
  {
   "cell_type": "markdown",
   "metadata": {},
   "source": [
    "# **Vale a pena pesquisar também sobre Broadcast, slicing, indexing e selection em NumPy Arrays e como difere da lista comum.**"
   ]
  },
  {
   "cell_type": "markdown",
   "metadata": {},
   "source": [
    "## Mais alguns métodos e atributos interessantes"
   ]
  },
  {
   "cell_type": "code",
   "execution_count": 29,
   "metadata": {},
   "outputs": [
    {
     "data": {
      "text/plain": [
       "array([0., 0., 0.])"
      ]
     },
     "execution_count": 29,
     "metadata": {},
     "output_type": "execute_result"
    }
   ],
   "source": [
    "#Fazer um vetor de zeros\n",
    "np.zeros(3)"
   ]
  },
  {
   "cell_type": "code",
   "execution_count": 31,
   "metadata": {},
   "outputs": [
    {
     "data": {
      "text/plain": [
       "array([[0., 0., 0.],\n",
       "       [0., 0., 0.],\n",
       "       [0., 0., 0.]])"
      ]
     },
     "execution_count": 31,
     "metadata": {},
     "output_type": "execute_result"
    }
   ],
   "source": [
    "#Uma matriz de zeros\n",
    "np.zeros( (3,3) )"
   ]
  },
  {
   "cell_type": "code",
   "execution_count": 32,
   "metadata": {},
   "outputs": [
    {
     "data": {
      "text/plain": [
       "array([1., 1., 1., 1., 1., 1., 1.])"
      ]
     },
     "execution_count": 32,
     "metadata": {},
     "output_type": "execute_result"
    }
   ],
   "source": [
    "#Vetor de uns\n",
    "np.ones(7)"
   ]
  },
  {
   "cell_type": "code",
   "execution_count": 33,
   "metadata": {},
   "outputs": [
    {
     "data": {
      "text/plain": [
       "array([[1., 1., 1., 1., 1., 1.],\n",
       "       [1., 1., 1., 1., 1., 1.],\n",
       "       [1., 1., 1., 1., 1., 1.],\n",
       "       [1., 1., 1., 1., 1., 1.],\n",
       "       [1., 1., 1., 1., 1., 1.],\n",
       "       [1., 1., 1., 1., 1., 1.],\n",
       "       [1., 1., 1., 1., 1., 1.],\n",
       "       [1., 1., 1., 1., 1., 1.]])"
      ]
     },
     "execution_count": 33,
     "metadata": {},
     "output_type": "execute_result"
    }
   ],
   "source": [
    "#Matriz de uns\n",
    "np.ones( (8,6) )"
   ]
  },
  {
   "cell_type": "markdown",
   "metadata": {},
   "source": [
    "O método **linspace** retorna números igualmente espaçados em um intervalo especificado, cuidado para não confundir com **arange**."
   ]
  },
  {
   "cell_type": "code",
   "execution_count": 35,
   "metadata": {},
   "outputs": [
    {
     "data": {
      "text/plain": [
       "array([0.        , 0.05050505, 0.1010101 , 0.15151515, 0.2020202 ,\n",
       "       0.25252525, 0.3030303 , 0.35353535, 0.4040404 , 0.45454545,\n",
       "       0.50505051, 0.55555556, 0.60606061, 0.65656566, 0.70707071,\n",
       "       0.75757576, 0.80808081, 0.85858586, 0.90909091, 0.95959596,\n",
       "       1.01010101, 1.06060606, 1.11111111, 1.16161616, 1.21212121,\n",
       "       1.26262626, 1.31313131, 1.36363636, 1.41414141, 1.46464646,\n",
       "       1.51515152, 1.56565657, 1.61616162, 1.66666667, 1.71717172,\n",
       "       1.76767677, 1.81818182, 1.86868687, 1.91919192, 1.96969697,\n",
       "       2.02020202, 2.07070707, 2.12121212, 2.17171717, 2.22222222,\n",
       "       2.27272727, 2.32323232, 2.37373737, 2.42424242, 2.47474747,\n",
       "       2.52525253, 2.57575758, 2.62626263, 2.67676768, 2.72727273,\n",
       "       2.77777778, 2.82828283, 2.87878788, 2.92929293, 2.97979798,\n",
       "       3.03030303, 3.08080808, 3.13131313, 3.18181818, 3.23232323,\n",
       "       3.28282828, 3.33333333, 3.38383838, 3.43434343, 3.48484848,\n",
       "       3.53535354, 3.58585859, 3.63636364, 3.68686869, 3.73737374,\n",
       "       3.78787879, 3.83838384, 3.88888889, 3.93939394, 3.98989899,\n",
       "       4.04040404, 4.09090909, 4.14141414, 4.19191919, 4.24242424,\n",
       "       4.29292929, 4.34343434, 4.39393939, 4.44444444, 4.49494949,\n",
       "       4.54545455, 4.5959596 , 4.64646465, 4.6969697 , 4.74747475,\n",
       "       4.7979798 , 4.84848485, 4.8989899 , 4.94949495, 5.        ])"
      ]
     },
     "execution_count": 35,
     "metadata": {},
     "output_type": "execute_result"
    }
   ],
   "source": [
    "np.linspace(0,5,100)\n",
    "#100 números igualmente espaçados de 0 a 5."
   ]
  },
  {
   "cell_type": "markdown",
   "metadata": {},
   "source": [
    "**Criando uma matriz identidade**\n",
    "\n",
    "Matriz muito útil para lidar com problemas de Álgebra Linear.\n",
    "\n",
    "Por ser uma matriz quadrada, apenas temos que passar um valor como argumento."
   ]
  },
  {
   "cell_type": "code",
   "execution_count": 36,
   "metadata": {},
   "outputs": [
    {
     "data": {
      "text/plain": [
       "array([[1., 0., 0., 0., 0.],\n",
       "       [0., 1., 0., 0., 0.],\n",
       "       [0., 0., 1., 0., 0.],\n",
       "       [0., 0., 0., 1., 0.],\n",
       "       [0., 0., 0., 0., 1.]])"
      ]
     },
     "execution_count": 36,
     "metadata": {},
     "output_type": "execute_result"
    }
   ],
   "source": [
    "np.eye(5)"
   ]
  },
  {
   "cell_type": "markdown",
   "metadata": {},
   "source": [
    "### Criando valores aleatórios\n",
    "\n",
    "* **np.random.rand()** cria um array da \"shape\" que você passar e o preenche com amostras aleatórias retiradas de uma **distribuição uniforme** de 0 a 1.\n",
    "\n",
    "* **np.random.randn()** é similar ao rand(), mas retorna amostras de uma **distribuição normal** centrada em torno de 0.\n",
    "\n",
    "* **np.random.randint()** retorna inteiros aleatórios de um \"low\" (valor mais baixo) até um \"high\" (valor mais alto)"
   ]
  },
  {
   "cell_type": "code",
   "execution_count": 37,
   "metadata": {},
   "outputs": [
    {
     "data": {
      "text/plain": [
       "array([0.93292518, 0.15225315, 0.20862848, 0.8670134 , 0.49182726])"
      ]
     },
     "execution_count": 37,
     "metadata": {},
     "output_type": "execute_result"
    }
   ],
   "source": [
    "#Um vetor de valores aleatórios retirados de uma distribuição uniforme de 0 a 1\n",
    "np.random.rand(5)"
   ]
  },
  {
   "cell_type": "code",
   "execution_count": 38,
   "metadata": {},
   "outputs": [
    {
     "data": {
      "text/plain": [
       "array([[0.55837292, 0.83068224, 0.52606086, 0.08200068, 0.28617679,\n",
       "        0.80360157, 0.71637056, 0.25192826, 0.63505549, 0.20726293],\n",
       "       [0.32948866, 0.95792115, 0.87932947, 0.9015644 , 0.4124461 ,\n",
       "        0.71992164, 0.35435863, 0.85443243, 0.91188818, 0.78801876],\n",
       "       [0.11777191, 0.26681424, 0.59504593, 0.05613089, 0.90444797,\n",
       "        0.75135179, 0.97801326, 0.25375679, 0.31695609, 0.8751822 ],\n",
       "       [0.9522336 , 0.07358288, 0.5655309 , 0.78890744, 0.77903802,\n",
       "        0.3126538 , 0.27672654, 0.96870368, 0.6834805 , 0.17944953],\n",
       "       [0.37450528, 0.85859788, 0.96360123, 0.07247552, 0.47380143,\n",
       "        0.36859091, 0.44716683, 0.26809707, 0.40591944, 0.45044838]])"
      ]
     },
     "execution_count": 38,
     "metadata": {},
     "output_type": "execute_result"
    }
   ],
   "source": [
    "#Matriz de valores aleatórios\n",
    "np.random.rand(5,10) #2d"
   ]
  },
  {
   "cell_type": "code",
   "execution_count": 39,
   "metadata": {},
   "outputs": [
    {
     "data": {
      "text/plain": [
       "array([ 1.0024674 , -0.29900752, -0.81489593, -0.21808585, -1.56607616])"
      ]
     },
     "execution_count": 39,
     "metadata": {},
     "output_type": "execute_result"
    }
   ],
   "source": [
    "#Um vetor de valores aleatórios retirados de uma distribuição normal ou Gaussiana centrada em 0.\n",
    "np.random.randn(5)"
   ]
  },
  {
   "cell_type": "code",
   "execution_count": 41,
   "metadata": {},
   "outputs": [
    {
     "data": {
      "text/plain": [
       "array([[-0.46465575, -0.19721859,  0.17459591,  0.27290759,  0.14676417],\n",
       "       [ 1.56662161, -0.20465434, -0.70875188, -0.64857581, -0.57110895],\n",
       "       [-0.61078449, -0.1672771 ,  0.50459666, -1.58604546, -0.7003151 ],\n",
       "       [-1.08913374,  0.54741187,  0.50622163, -0.62213661,  0.54252637],\n",
       "       [ 0.40193565,  0.31243466,  1.0812304 ,  0.8944101 , -0.25504723]])"
      ]
     },
     "execution_count": 41,
     "metadata": {},
     "output_type": "execute_result"
    }
   ],
   "source": [
    "#Matriz\n",
    "np.random.randn(5,5)"
   ]
  },
  {
   "cell_type": "code",
   "execution_count": 43,
   "metadata": {},
   "outputs": [
    {
     "data": {
      "text/plain": [
       "22"
      ]
     },
     "execution_count": 43,
     "metadata": {},
     "output_type": "execute_result"
    }
   ],
   "source": [
    "np.random.randint(low=2, high=50)\n",
    "#não precisa explicitar \"low\" e \"high\", foi apenas para demonstrar."
   ]
  },
  {
   "cell_type": "code",
   "execution_count": 44,
   "metadata": {},
   "outputs": [
    {
     "data": {
      "text/plain": [
       "23"
      ]
     },
     "execution_count": 44,
     "metadata": {},
     "output_type": "execute_result"
    }
   ],
   "source": [
    "np.random.randint(2,50)\n",
    "\n",
    "#Note que o retorno é um número e não um NumPy Array!"
   ]
  },
  {
   "cell_type": "code",
   "execution_count": 45,
   "metadata": {},
   "outputs": [
    {
     "data": {
      "text/plain": [
       "array([46, 31, 33])"
      ]
     },
     "execution_count": 45,
     "metadata": {},
     "output_type": "execute_result"
    }
   ],
   "source": [
    "#Também podemos escolher a quantidade de valores aleatórios que queremos no caso do randint()\n",
    "np.random.randint(2,50,3)"
   ]
  },
  {
   "cell_type": "markdown",
   "metadata": {},
   "source": [
    "## Combinando os conceitos"
   ]
  },
  {
   "cell_type": "code",
   "execution_count": 46,
   "metadata": {},
   "outputs": [
    {
     "data": {
      "text/plain": [
       "array([[0.9327093 , 0.2582882 , 0.94218476, 0.51889706, 0.98985032,\n",
       "        0.69875821, 0.04207996, 0.73658278, 0.55772626, 0.74865561],\n",
       "       [0.75932501, 0.02006488, 0.53954625, 0.3774484 , 0.68464114,\n",
       "        0.97650566, 0.04102288, 0.96595102, 0.51701461, 0.55330934],\n",
       "       [0.17034251, 0.64500135, 0.28659671, 0.6475452 , 0.74161098,\n",
       "        0.78872235, 0.65372582, 0.74255762, 0.68567736, 0.31099259],\n",
       "       [0.66863867, 0.35608401, 0.08991576, 0.99175823, 0.99677609,\n",
       "        0.48570944, 0.06047358, 0.03114441, 0.54072209, 0.43685609],\n",
       "       [0.72996485, 0.50068838, 0.95359908, 0.72518764, 0.36656119,\n",
       "        0.05864076, 0.47984782, 0.02269368, 0.08625637, 0.8953293 ],\n",
       "       [0.11001042, 0.15709331, 0.2572981 , 0.88155971, 0.25227546,\n",
       "        0.03402161, 0.35568834, 0.15377596, 0.63041118, 0.75328645],\n",
       "       [0.76336119, 0.67085588, 0.7992501 , 0.16957061, 0.42483727,\n",
       "        0.79738446, 0.85119579, 0.0818468 , 0.14224801, 0.45141309],\n",
       "       [0.17627666, 0.65907529, 0.18913511, 0.82285237, 0.43175598,\n",
       "        0.2261894 , 0.51340781, 0.86015638, 0.78528105, 0.16065893],\n",
       "       [0.15006375, 0.58347505, 0.8217636 , 0.31010095, 0.93927139,\n",
       "        0.36670032, 0.8801789 , 0.01725522, 0.9303687 , 0.81217869],\n",
       "       [0.78852441, 0.4858558 , 0.79593917, 0.66926312, 0.74536316,\n",
       "        0.96379003, 0.76118042, 0.09589258, 0.2314573 , 0.71477925],\n",
       "       [0.76384537, 0.62277652, 0.12200825, 0.07670237, 0.75903912,\n",
       "        0.73907763, 0.7183233 , 0.71233249, 0.7193129 , 0.44405986],\n",
       "       [0.91123668, 0.49153195, 0.45005464, 0.47439031, 0.09606347,\n",
       "        0.3982696 , 0.00613089, 0.39241162, 0.23178595, 0.10315083],\n",
       "       [0.9001172 , 0.95784845, 0.20247233, 0.22363265, 0.76338882,\n",
       "        0.64160179, 0.96797167, 0.72248453, 0.08442233, 0.38853351],\n",
       "       [0.63552044, 0.96131282, 0.08835311, 0.55343962, 0.80301126,\n",
       "        0.85132095, 0.4893889 , 0.73195356, 0.87524436, 0.72563158],\n",
       "       [0.54816994, 0.26156115, 0.79542522, 0.88515921, 0.16587327,\n",
       "        0.8068332 , 0.97395429, 0.79645537, 0.45143252, 0.53662077],\n",
       "       [0.37874722, 0.4441351 , 0.65235159, 0.64735998, 0.80937371,\n",
       "        0.96684805, 0.5455367 , 0.7464618 , 0.54424442, 0.13621935],\n",
       "       [0.19400476, 0.45499971, 0.78867918, 0.57202895, 0.61849102,\n",
       "        0.37934235, 0.34332261, 0.07942358, 0.75920724, 0.43217956],\n",
       "       [0.28234992, 0.26745112, 0.09287932, 0.24298925, 0.53271455,\n",
       "        0.836352  , 0.9554342 , 0.69292604, 0.74284638, 0.19527533],\n",
       "       [0.0244638 , 0.15646067, 0.98218826, 0.25375261, 0.46875349,\n",
       "        0.39953016, 0.04758315, 0.47888891, 0.64067002, 0.98151424],\n",
       "       [0.32457775, 0.38464397, 0.34370692, 0.79883841, 0.72071397,\n",
       "        0.90305156, 0.01281694, 0.40090886, 0.95233454, 0.40821042]])"
      ]
     },
     "execution_count": 46,
     "metadata": {},
     "output_type": "execute_result"
    }
   ],
   "source": [
    "np.random.rand(20,10)"
   ]
  },
  {
   "cell_type": "code",
   "execution_count": 47,
   "metadata": {},
   "outputs": [
    {
     "data": {
      "text/plain": [
       "array([[[0.22941739, 0.93683536, 0.68437899, 0.32797255],\n",
       "        [0.86006256, 0.10490807, 0.83895835, 0.0553086 ],\n",
       "        [0.31971834, 0.7298616 , 0.38225342, 0.96305881],\n",
       "        [0.21835061, 0.81295923, 0.82036124, 0.8311823 ],\n",
       "        [0.40535886, 0.69375589, 0.68393068, 0.91657969]],\n",
       "\n",
       "       [[0.20351763, 0.5551954 , 0.86235372, 0.16370183],\n",
       "        [0.93604044, 0.07676816, 0.59139221, 0.69636272],\n",
       "        [0.52602994, 0.16872754, 0.10936995, 0.61448732],\n",
       "        [0.52200905, 0.0726745 , 0.33741709, 0.79006022],\n",
       "        [0.71135719, 0.14596544, 0.02126466, 0.94039269]],\n",
       "\n",
       "       [[0.45062894, 0.5895994 , 0.61362308, 0.5605395 ],\n",
       "        [0.56724911, 0.4378591 , 0.38147166, 0.63274838],\n",
       "        [0.28380388, 0.19942626, 0.77601592, 0.79632342],\n",
       "        [0.09721443, 0.27889543, 0.18034524, 0.55918258],\n",
       "        [0.28872271, 0.46330182, 0.50386131, 0.10002311]],\n",
       "\n",
       "       [[0.8240957 , 0.67336531, 0.81385494, 0.90569344],\n",
       "        [0.04226157, 0.65048447, 0.45382197, 0.34618791],\n",
       "        [0.44154591, 0.94054519, 0.20327412, 0.33473005],\n",
       "        [0.85839689, 0.96927098, 0.02685853, 0.33447101],\n",
       "        [0.78305463, 0.90956866, 0.02982289, 0.15977291]],\n",
       "\n",
       "       [[0.94775325, 0.61423053, 0.21836188, 0.02625756],\n",
       "        [0.39918162, 0.89865945, 0.19247951, 0.80931163],\n",
       "        [0.53632109, 0.43944943, 0.85771136, 0.22410057],\n",
       "        [0.5252385 , 0.05146329, 0.77034371, 0.40411998],\n",
       "        [0.1123865 , 0.18450746, 0.09882096, 0.05980709]],\n",
       "\n",
       "       [[0.99788084, 0.8799386 , 0.65142092, 0.66229033],\n",
       "        [0.04938753, 0.50600178, 0.84429701, 0.79567205],\n",
       "        [0.38762475, 0.55457261, 0.3828325 , 0.39475619],\n",
       "        [0.83326738, 0.4476569 , 0.52241993, 0.72049562],\n",
       "        [0.45285655, 0.6015459 , 0.91135353, 0.95412074]],\n",
       "\n",
       "       [[0.9227535 , 0.62290429, 0.54391773, 0.55825191],\n",
       "        [0.71646695, 0.07925842, 0.3091955 , 0.01801835],\n",
       "        [0.30398087, 0.01240148, 0.29414285, 0.10131686],\n",
       "        [0.79451671, 0.11439953, 0.21980467, 0.29829337],\n",
       "        [0.32563874, 0.1824869 , 0.0937131 , 0.23799319]],\n",
       "\n",
       "       [[0.09020366, 0.95490798, 0.19023167, 0.58711251],\n",
       "        [0.47212867, 0.03751726, 0.87277252, 0.76031514],\n",
       "        [0.26080896, 0.79057371, 0.28670269, 0.1041546 ],\n",
       "        [0.41342873, 0.13801627, 0.29960995, 0.7061722 ],\n",
       "        [0.19989881, 0.4530432 , 0.6290892 , 0.21210106]],\n",
       "\n",
       "       [[0.03410623, 0.00498885, 0.48014799, 0.92982447],\n",
       "        [0.34182025, 0.37580037, 0.12061235, 0.41190371],\n",
       "        [0.63908454, 0.55725016, 0.49286937, 0.84309153],\n",
       "        [0.13835901, 0.6186944 , 0.55259616, 0.31484737],\n",
       "        [0.05561823, 0.42631936, 0.57040505, 0.81140849]],\n",
       "\n",
       "       [[0.2746792 , 0.39883091, 0.78766714, 0.41864703],\n",
       "        [0.75434555, 0.86024232, 0.08124631, 0.33491209],\n",
       "        [0.92338172, 0.48762897, 0.92760554, 0.02890046],\n",
       "        [0.24114984, 0.88103862, 0.73521533, 0.60988753],\n",
       "        [0.89554329, 0.72212356, 0.13230871, 0.90489116]]])"
      ]
     },
     "execution_count": 47,
     "metadata": {},
     "output_type": "execute_result"
    }
   ],
   "source": [
    "np.random.rand(20,10).reshape(10,5,4) #Numa só linha fazendo reshape"
   ]
  },
  {
   "cell_type": "code",
   "execution_count": 48,
   "metadata": {},
   "outputs": [
    {
     "data": {
      "text/plain": [
       "array([[ 0,  1],\n",
       "       [ 2,  3],\n",
       "       [ 4,  5],\n",
       "       [ 6,  7],\n",
       "       [ 8,  9],\n",
       "       [10, 11],\n",
       "       [12, 13],\n",
       "       [14, 15],\n",
       "       [16, 17],\n",
       "       [18, 19],\n",
       "       [20, 21],\n",
       "       [22, 23],\n",
       "       [24, 25],\n",
       "       [26, 27],\n",
       "       [28, 29],\n",
       "       [30, 31],\n",
       "       [32, 33],\n",
       "       [34, 35],\n",
       "       [36, 37],\n",
       "       [38, 39],\n",
       "       [40, 41],\n",
       "       [42, 43],\n",
       "       [44, 45],\n",
       "       [46, 47],\n",
       "       [48, 49],\n",
       "       [50, 51],\n",
       "       [52, 53],\n",
       "       [54, 55],\n",
       "       [56, 57],\n",
       "       [58, 59],\n",
       "       [60, 61],\n",
       "       [62, 63],\n",
       "       [64, 65],\n",
       "       [66, 67],\n",
       "       [68, 69]])"
      ]
     },
     "execution_count": 48,
     "metadata": {},
     "output_type": "execute_result"
    }
   ],
   "source": [
    "np.arange(70).reshape(35,2)"
   ]
  },
  {
   "cell_type": "code",
   "execution_count": null,
   "metadata": {},
   "outputs": [],
   "source": []
  }
 ],
 "metadata": {
  "kernelspec": {
   "display_name": "Python 3",
   "language": "python",
   "name": "python3"
  },
  "language_info": {
   "codemirror_mode": {
    "name": "ipython",
    "version": 3
   },
   "file_extension": ".py",
   "mimetype": "text/x-python",
   "name": "python",
   "nbconvert_exporter": "python",
   "pygments_lexer": "ipython3",
   "version": "3.6.5"
  }
 },
 "nbformat": 4,
 "nbformat_minor": 2
}
